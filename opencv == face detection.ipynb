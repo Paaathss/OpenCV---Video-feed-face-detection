{
 "cells": [
  {
   "cell_type": "code",
   "execution_count": 9,
   "id": "100e0cba-376a-494e-8e31-a137fe4f8a4c",
   "metadata": {},
   "outputs": [
    {
     "name": "stdout",
     "output_type": "stream",
     "text": [
      "Collecting opencv-python\n",
      "  Using cached opencv_python-4.10.0.84-cp37-abi3-win_amd64.whl.metadata (20 kB)\n",
      "Requirement already satisfied: numpy>=1.21.2 in c:\\anaconda\\lib\\site-packages (from opencv-python) (1.26.4)\n",
      "Using cached opencv_python-4.10.0.84-cp37-abi3-win_amd64.whl (38.8 MB)\n",
      "Installing collected packages: opencv-python\n",
      "Successfully installed opencv-python-4.10.0.84\n"
     ]
    }
   ],
   "source": [
    "!pip install opencv-python"
   ]
  },
  {
   "cell_type": "markdown",
   "id": "454ec6b6-2e6d-4071-b6ce-3a373dead531",
   "metadata": {},
   "source": [
    "## Reading and displaying image"
   ]
  },
  {
   "cell_type": "code",
   "execution_count": 10,
   "id": "af2188fe-5c3f-45d6-be4e-cec788db0320",
   "metadata": {},
   "outputs": [],
   "source": [
    "import cv2"
   ]
  },
  {
   "cell_type": "code",
   "execution_count": 11,
   "id": "55d89294-771f-4766-b784-e76544e12286",
   "metadata": {},
   "outputs": [],
   "source": [
    "image = cv2.imread('images (1).jpg')"
   ]
  },
  {
   "cell_type": "code",
   "execution_count": 12,
   "id": "aba50367-b80c-4723-9ae1-7e05780f2c4e",
   "metadata": {},
   "outputs": [],
   "source": [
    "cv2.imshow('image',image)\n",
    "cv2.waitKey(20000)\n",
    "cv2.destroyAllWindows()"
   ]
  },
  {
   "cell_type": "markdown",
   "id": "258f762f-25fc-426d-a734-e8b790ac4244",
   "metadata": {},
   "source": [
    "## Accessing image properties"
   ]
  },
  {
   "cell_type": "code",
   "execution_count": 13,
   "id": "457a1678-ffff-4544-b30b-cb921f715862",
   "metadata": {},
   "outputs": [
    {
     "name": "stdout",
     "output_type": "stream",
     "text": [
      "Dimensions: (190, 266, 3)\n",
      "RGB value at (50, 50): [220 210 200]\n"
     ]
    }
   ],
   "source": [
    "print(f\"Dimensions: {image.shape}\")\n",
    "print(f\"RGB value at (50, 50): {image[50, 50]}\")"
   ]
  },
  {
   "cell_type": "markdown",
   "id": "0eabc9e9-2261-4846-990a-9085a336d2e7",
   "metadata": {},
   "source": [
    "## Converting to greyscale and edge detection"
   ]
  },
  {
   "cell_type": "code",
   "execution_count": 14,
   "id": "b7838a2f-495a-42e7-a740-89963218711d",
   "metadata": {},
   "outputs": [
    {
     "data": {
      "text/plain": [
       "-1"
      ]
     },
     "execution_count": 14,
     "metadata": {},
     "output_type": "execute_result"
    }
   ],
   "source": [
    "gray_image = cv2.cvtColor(image,cv2.COLOR_BGR2GRAY)\n",
    "edges = cv2.Canny(gray_image,100,200)\n",
    "cv2.imshow('edges',edges)\n",
    "cv2.waitKey(20000)"
   ]
  },
  {
   "cell_type": "markdown",
   "id": "607620bb-3293-4c94-879c-5e452a639a34",
   "metadata": {},
   "source": [
    "## Video capture and face detection"
   ]
  },
  {
   "cell_type": "code",
   "execution_count": 15,
   "id": "de449bf6-c839-44a7-a7ee-fb9c0b936b33",
   "metadata": {},
   "outputs": [
    {
     "ename": "AttributeError",
     "evalue": "'cv2.VideoCapture' object has no attribute 'destroyAllWindows'",
     "output_type": "error",
     "traceback": [
      "\u001b[1;31m---------------------------------------------------------------------------\u001b[0m",
      "\u001b[1;31mAttributeError\u001b[0m                            Traceback (most recent call last)",
      "Cell \u001b[1;32mIn[15], line 17\u001b[0m\n\u001b[0;32m     15\u001b[0m         \u001b[38;5;28;01mbreak\u001b[39;00m\n\u001b[0;32m     16\u001b[0m cap\u001b[38;5;241m.\u001b[39mrelease()\n\u001b[1;32m---> 17\u001b[0m cap\u001b[38;5;241m.\u001b[39mdestroyAllWindows()\n",
      "\u001b[1;31mAttributeError\u001b[0m: 'cv2.VideoCapture' object has no attribute 'destroyAllWindows'"
     ]
    }
   ],
   "source": [
    "face_cascade = cv2.CascadeClassifier(cv2.data.haarcascades + 'haarcascade_frontalface_default.xml')\n",
    "cap = cv2.VideoCapture(0)\n",
    "\n",
    "while True:\n",
    "    ret, frame = cap.read()\n",
    "    gray_frame = cv2.cvtColor(frame, cv2.COLOR_BGR2GRAY)\n",
    "    faces = face_cascade.detectMultiScale(gray_frame, scaleFactor=1.1, minNeighbors=5)\n",
    "    \n",
    "    for (x, y, w, h) in faces:\n",
    "        cv2.rectangle(frame, (x, y), (x+w, y+h), (255, 0, 0), 2)\n",
    "        roi = frame[y:y+h, x:x+w]  # Region of interest (ROI)\n",
    "\n",
    "    cv2.imshow('Video Feed',frame)\n",
    "    if cv2.waitKey(1) & 0xFF == ord('q'):\n",
    "        break\n",
    "cap.release()\n",
    "cap.destroyAllWindows()\n",
    "       \n"
   ]
  },
  {
   "cell_type": "code",
   "execution_count": 1,
   "id": "496cf814-b488-4745-860a-c2e470fc8d50",
   "metadata": {},
   "outputs": [
    {
     "name": "stdout",
     "output_type": "stream",
     "text": [
      "Video with detected faces saved as detected_faces.avi\n"
     ]
    }
   ],
   "source": [
    "import cv2\n",
    "\n",
    "# Load the pre-trained face cascade classifier\n",
    "face_cascade = cv2.CascadeClassifier(cv2.data.haarcascades + 'haarcascade_frontalface_default.xml')\n",
    "\n",
    "# Load the input video file\n",
    "input_video = '7699696-uhd_2160_4096_24fps.mp4'  # Replace with your video file name\n",
    "cap = cv2.VideoCapture(input_video)\n",
    "\n",
    "# Define the codec and create VideoWriter object to save the output video\n",
    "fourcc = cv2.VideoWriter_fourcc(*'XVID')  # Codec for .avi files\n",
    "output_video = 'detected_faces.avi'  # Name of the output video file\n",
    "out = cv2.VideoWriter(output_video, fourcc, int(cap.get(cv2.CAP_PROP_FPS)),\n",
    "                      (int(cap.get(cv2.CAP_PROP_FRAME_WIDTH)), int(cap.get(cv2.CAP_PROP_FRAME_HEIGHT))))\n",
    "\n",
    "while cap.isOpened():\n",
    "    ret, frame = cap.read()\n",
    "    if not ret:\n",
    "        break\n",
    "\n",
    "    # Convert the frame to grayscale for face detection\n",
    "    gray_frame = cv2.cvtColor(frame, cv2.COLOR_BGR2GRAY)\n",
    "    faces = face_cascade.detectMultiScale(gray_frame, scaleFactor=1.1, minNeighbors=5)\n",
    "\n",
    "    # Draw rectangles around detected faces\n",
    "    for (x, y, w, h) in faces:\n",
    "        cv2.rectangle(frame, (x, y), (x+w, y+h), (255, 0, 0), 2)\n",
    "\n",
    "    # Write the processed frame to the output video file\n",
    "    out.write(frame)\n",
    "\n",
    "    # Optionally display the frame (comment out if not needed)\n",
    "    cv2.imshow('Video Feed', frame)\n",
    "    if cv2.waitKey(1) & 0xFF == ord('q'):  # Press 'q' to quit early\n",
    "        break\n",
    "\n",
    "# Release resources\n",
    "cap.release()\n",
    "out.release()\n",
    "cv2.destroyAllWindows()\n",
    "\n",
    "print(f\"Video with detected faces saved as {output_video}\")\n"
   ]
  },
  {
   "cell_type": "code",
   "execution_count": null,
   "id": "cf1d22e9-0d49-431f-8069-a9fd8fd7b66c",
   "metadata": {},
   "outputs": [],
   "source": []
  },
  {
   "cell_type": "code",
   "execution_count": null,
   "id": "8d5c4c2a-4573-4c6e-ada9-48c24d6608bb",
   "metadata": {},
   "outputs": [],
   "source": []
  }
 ],
 "metadata": {
  "kernelspec": {
   "display_name": "Python 3 (ipykernel)",
   "language": "python",
   "name": "python3"
  },
  "language_info": {
   "codemirror_mode": {
    "name": "ipython",
    "version": 3
   },
   "file_extension": ".py",
   "mimetype": "text/x-python",
   "name": "python",
   "nbconvert_exporter": "python",
   "pygments_lexer": "ipython3",
   "version": "3.12.7"
  }
 },
 "nbformat": 4,
 "nbformat_minor": 5
}
